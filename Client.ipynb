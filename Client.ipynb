{
 "cells": [
  {
   "cell_type": "code",
   "execution_count": null,
   "metadata": {},
   "outputs": [],
   "source": [
    "from pymongo import MongoClient\n",
    "import requests\n",
    "\n",
    "# MongoDB Connection\n",
    "client = MongoClient('mongodb://localhost:27017/')  # Replace with your MongoDB URI\n",
    "db = client['your_database_name']  # Replace with your database name\n",
    "collection = db['user_collection']  # Replace with your collection name\n",
    "\n",
    "# Fetch all user social links\n",
    "users = collection.find({}, {'_id': 1, 'social_link': 1})\n",
    "user_data = [{'_id': user['_id'], 'social_link': user.get('social_link')} for user in users]\n",
    "\n",
    "# Function to fetch user details from social links\n",
    "def fetch_user_details(social_link):\n",
    "    if not social_link:\n",
    "        return None\n",
    "\n",
    "    try:\n",
    "        # Example: Replace with actual API or scraping logic\n",
    "        response = requests.get(social_link)\n",
    "        if response.status_code == 200:\n",
    "            return {\"details\": response.text[:100]}  # Example: Replace with actual parsing\n",
    "        else:\n",
    "            return None\n",
    "    except Exception as e:\n",
    "        print(f\"Error fetching data for {social_link}: {e}\")\n",
    "        return None\n",
    "\n",
    "# Update MongoDB with user details\n",
    "for user in user_data:\n",
    "    user_id = user['_id']\n",
    "    social_link = user['social_link']\n",
    "    user_details = fetch_user_details(social_link)\n",
    "\n",
    "    if user_details:\n",
    "        collection.update_one(\n",
    "            {'_id': user_id},\n",
    "            {'$set': {'user_details': user_details}}\n",
    "        )\n"
   ]
  },
  {
   "cell_type": "code",
   "execution_count": null,
   "metadata": {},
   "outputs": [],
   "source": []
  }
 ],
 "metadata": {
  "kernelspec": {
   "display_name": "Python 3",
   "language": "python",
   "name": "python3"
  },
  "language_info": {
   "codemirror_mode": {
    "name": "ipython",
    "version": 3
   },
   "file_extension": ".py",
   "mimetype": "text/x-python",
   "name": "python",
   "nbconvert_exporter": "python",
   "pygments_lexer": "ipython3",
   "version": "3.12.7"
  }
 },
 "nbformat": 4,
 "nbformat_minor": 2
}
